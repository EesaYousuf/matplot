{
 "cells": [
  {
   "cell_type": "code",
   "execution_count": null,
   "id": "4e8326a9",
   "metadata": {
    "vscode": {
     "languageId": "plaintext"
    }
   },
   "outputs": [],
   "source": [
    "import numpy as np\n",
    "\n",
    "# Sigmoid activation and its derivative\n",
    "def sigmoid(x): return 1 / (1 + np.exp(-x))\n",
    "def d_sigmoid(x): return sigmoid(x) * (1 - sigmoid(x))\n"
   ]
  },
  {
   "cell_type": "code",
   "execution_count": null,
   "id": "8713f895",
   "metadata": {
    "vscode": {
     "languageId": "plaintext"
    }
   },
   "outputs": [],
   "source": [
    "# Data\n",
    "X = np.array([[0,0],[0,1],[1,0],[1,1]])\n",
    "y = np.array([[0],[1],[1],[0]])\n"
   ]
  },
  {
   "cell_type": "code",
   "execution_count": null,
   "id": "fe4bf214",
   "metadata": {
    "vscode": {
     "languageId": "plaintext"
    }
   },
   "outputs": [],
   "source": [
    " Init\n",
    "W1 = np.random.randn(2, 4)\n",
    "W2 = np.random.randn(4, 1)\n",
    "\n",
    "for epoch in range(10000):"
   ]
  },
  {
   "cell_type": "code",
   "execution_count": null,
   "id": "ff113246",
   "metadata": {
    "vscode": {
     "languageId": "plaintext"
    }
   },
   "outputs": [],
   "source": [
    "# Forward\n",
    "    z1 = X @ W1\n",
    "    a1 = sigmoid(z1)\n",
    "    z2 = a1 @ W2\n",
    "    a2 = sigmoid(z2)"
   ]
  },
  {
   "cell_type": "code",
   "execution_count": null,
   "id": "2b5f45e7",
   "metadata": {
    "vscode": {
     "languageId": "plaintext"
    }
   },
   "outputs": [],
   "source": [
    " # Backprop\n",
    "    loss = a2 - y\n",
    "    dW2 = a1.T @ (loss * d_sigmoid(z2))\n",
    "    dW1 = X.T @ ((loss * d_sigmoid(z2)) @ W2.T * d_sigmoid(z1))\n",
    "\n",
    "    # Update\n",
    "    W2 -= 0.1 * dW2\n",
    "    W1 -= 0.1 * dW1\n"
   ]
  }
 ],
 "metadata": {
  "language_info": {
   "name": "python"
  }
 },
 "nbformat": 4,
 "nbformat_minor": 5
}
