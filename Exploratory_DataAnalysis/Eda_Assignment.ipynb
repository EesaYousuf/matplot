{
 "cells": [
  {
   "cell_type": "code",
   "execution_count": null,
   "id": "ed2eff46",
   "metadata": {
    "vscode": {
     "languageId": "plaintext"
    }
   },
   "outputs": [],
   "source": [
    "import pandas as pd\n",
    "import seaborn as sns\n",
    "import matplotlib.pyplot as plt"
   ]
  },
  {
   "cell_type": "code",
   "execution_count": null,
   "id": "e901f984",
   "metadata": {
    "vscode": {
     "languageId": "plaintext"
    }
   },
   "outputs": [],
   "source": [
    "data=pd.read_csv('Cleaned_PlayStore_Data.csv')\n",
    "datacopy=data.copy()"
   ]
  },
  {
   "cell_type": "code",
   "execution_count": null,
   "id": "93c20454",
   "metadata": {
    "vscode": {
     "languageId": "plaintext"
    }
   },
   "outputs": [],
   "source": [
    "datacopy['Category'].unique()"
   ]
  },
  {
   "cell_type": "code",
   "execution_count": null,
   "id": "814252f5",
   "metadata": {
    "vscode": {
     "languageId": "plaintext"
    }
   },
   "outputs": [],
   "source": [
    "df_cat_install=datacopy.groupby(['Category'])['Installs'].sum().sort_values(ascending=False)[:10]\n",
    "df_cat_install"
   ]
  },
  {
   "cell_type": "code",
   "execution_count": null,
   "id": "ff626df5",
   "metadata": {
    "vscode": {
     "languageId": "plaintext"
    }
   },
   "outputs": [],
   "source": [
    "df_cat_install=df_cat_install.reset_index()\n",
    "df_cat_install"
   ]
  },
  {
   "cell_type": "code",
   "execution_count": null,
   "id": "f984da40",
   "metadata": {
    "vscode": {
     "languageId": "plaintext"
    }
   },
   "outputs": [],
   "source": [
    "sns.barplot(x='Installs',y='Category',data=df_cat_install)"
   ]
  },
  {
   "cell_type": "code",
   "execution_count": null,
   "id": "d3e78b4c",
   "metadata": {
    "vscode": {
     "languageId": "plaintext"
    }
   },
   "outputs": [],
   "source": [
    "datacopy.groupby(['Category','App'])['Installs'].sum()"
   ]
  },
  {
   "cell_type": "code",
   "execution_count": null,
   "id": "47382d66",
   "metadata": {
    "vscode": {
     "languageId": "plaintext"
    }
   },
   "outputs": [],
   "source": [
    "df=datacopy.groupby(['Category','App'])['Installs'].sum().reset_index()\n",
    "df"
   ]
  },
  {
   "cell_type": "code",
   "execution_count": null,
   "id": "76d15249",
   "metadata": {
    "vscode": {
     "languageId": "plaintext"
    }
   },
   "outputs": [],
   "source": [
    "df[df['Category']=='ART_AND_DESIGN'].sort_values(ascending=False,by='Installs')[:5]"
   ]
  },
  {
   "cell_type": "code",
   "execution_count": null,
   "id": "296a5925",
   "metadata": {
    "vscode": {
     "languageId": "plaintext"
    }
   },
   "outputs": [],
   "source": []
  }
 ],
 "metadata": {
  "language_info": {
   "name": "python"
  }
 },
 "nbformat": 4,
 "nbformat_minor": 5
}
