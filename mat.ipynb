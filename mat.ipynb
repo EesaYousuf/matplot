{
 "cells": [
  {
   "cell_type": "code",
   "execution_count": null,
   "id": "fc1edb82",
   "metadata": {
    "vscode": {
     "languageId": "plaintext"
    }
   },
   "outputs": [],
   "source": [
    "import matplotlib.pyplot as plt\n",
    "import numpy as np\n",
    "from matplotlib import cm\n",
    "from mpl_toolkits.mplot3d import Axes3D\n",
    "import matplotlib.dates as mdates\n",
    "import datetime"
   ]
  },
  {
   "cell_type": "code",
   "execution_count": null,
   "id": "7f32ac96",
   "metadata": {
    "vscode": {
     "languageId": "plaintext"
    }
   },
   "outputs": [],
   "source": [
    "# Prepare the figure\n",
    "fig = plt.figure(constrained_layout=True, figsize=(16, 10))\n",
    "gs = fig.add_gridspec(2, 3)\n",
    "\n",
    "# === 1. 3D Surface Plot ===\n",
    "ax1 = fig.add_subplot(gs[0, 0], projection='3d')\n",
    "X = np.linspace(-5, 5, 50)\n",
    "Y = np.linspace(-5, 5, 50)\n",
    "X, Y = np.meshgrid(X, Y)\n",
    "Z = np.sin(np.sqrt(X**2 + Y**2))\n",
    "\n",
    "surf = ax1.plot_surface(X, Y, Z, cmap=cm.viridis, edgecolor='none')\n",
    "ax1.set_title(\"3D Surface Plot\")\n",
    "fig.colorbar(surf, ax=ax1, shrink=0.5, aspect=10)\n"
   ]
  }
 ],
 "metadata": {
  "language_info": {
   "name": "python"
  }
 },
 "nbformat": 4,
 "nbformat_minor": 5
}
