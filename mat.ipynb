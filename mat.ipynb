{
 "cells": [
  {
   "cell_type": "code",
   "execution_count": null,
   "id": "fc1edb82",
   "metadata": {
    "vscode": {
     "languageId": "plaintext"
    }
   },
   "outputs": [],
   "source": [
    "import matplotlib.pyplot as plt\n",
    "import numpy as np\n",
    "from matplotlib import cm\n",
    "from mpl_toolkits.mplot3d import Axes3D\n",
    "import matplotlib.dates as mdates\n",
    "import datetime"
   ]
  },
  {
   "cell_type": "code",
   "execution_count": null,
   "id": "7f32ac96",
   "metadata": {
    "vscode": {
     "languageId": "plaintext"
    }
   },
   "outputs": [],
   "source": [
    "# Prepare the figure\n",
    "fig = plt.figure(constrained_layout=True, figsize=(16, 10))\n",
    "gs = fig.add_gridspec(2, 3)\n",
    "\n",
    "# === 1. 3D Surface Plot ===\n",
    "ax1 = fig.add_subplot(gs[0, 0], projection='3d')\n",
    "X = np.linspace(-5, 5, 50)\n",
    "Y = np.linspace(-5, 5, 50)\n",
    "X, Y = np.meshgrid(X, Y)\n",
    "Z = np.sin(np.sqrt(X**2 + Y**2))\n",
    "\n",
    "surf = ax1.plot_surface(X, Y, Z, cmap=cm.viridis, edgecolor='none')\n",
    "ax1.set_title(\"3D Surface Plot\")\n",
    "fig.colorbar(surf, ax=ax1, shrink=0.5, aspect=10)\n"
   ]
  },
  {
   "cell_type": "code",
   "execution_count": null,
   "id": "d9f61bb7",
   "metadata": {
    "vscode": {
     "languageId": "plaintext"
    }
   },
   "outputs": [],
   "source": [
    "# === 2. Histogram with Secondary Axis ===\n",
    "ax2 = fig.add_subplot(gs[0, 1])\n",
    "data = np.random.randn(1000)\n",
    "counts, bins, patches = ax2.hist(data, bins=30, color='steelblue', alpha=0.7)\n",
    "ax2.set_title(\"Histogram with Density\")\n",
    "\n",
    "ax2b = ax2.twinx()\n",
    "from scipy.stats import norm\n",
    "density = norm.pdf(bins, np.mean(data), np.std(data))\n",
    "ax2b.plot(bins, density, color='darkred')\n",
    "ax2b.set_ylabel(\"Probability Density\")\n"
   ]
  },
  {
   "cell_type": "code",
   "execution_count": null,
   "id": "4fa667cc",
   "metadata": {
    "vscode": {
     "languageId": "plaintext"
    }
   },
   "outputs": [],
   "source": [
    "# === 3. Time Series with Annotations ===\n",
    "ax3 = fig.add_subplot(gs[1, :2])\n",
    "dates = [datetime.datetime(2023, 1, 1) + datetime.timedelta(days=i) for i in range(100)]\n",
    "values = np.cumsum(np.random.randn(100))\n",
    "\n",
    "ax3.plot(dates, values, color='green', linewidth=2)\n",
    "ax3.set_title(\"Time Series with Annotation\")\n",
    "ax3.set_xlabel(\"Date\")\n",
    "ax3.set_ylabel(\"Value\")\n",
    "ax3.xaxis.set_major_formatter(mdates.DateFormatter('%b-%d'))"
   ]
  },
  {
   "cell_type": "code",
   "execution_count": null,
   "id": "bb75663c",
   "metadata": {
    "vscode": {
     "languageId": "plaintext"
    }
   },
   "outputs": [],
   "source": [
    "# Add annotation\n",
    "peak_idx = np.argmax(values)\n",
    "ax3.annotate('Peak',\n",
    "             xy=(dates[peak_idx], values[peak_idx]),\n",
    "             xytext=(dates[peak_idx], values[peak_idx] + 5),\n",
    "             arrowprops=dict(facecolor='black', arrowstyle='->'))\n",
    "\n",
    "# === 4. Heatmap ===\n",
    "ax4 = fig.add_subplot(gs[1, 2])\n",
    "matrix = np.random.rand(10, 10)\n",
    "heatmap = ax4.imshow(matrix, cmap='plasma')\n",
    "ax4.set_title(\"Heatmap\")\n",
    "fig.colorbar(heatmap, ax=ax4)\n",
    "\n",
    "# Show plot\n",
    "plt.suptitle(\"Advanced Matplotlib Visualization\", fontsize=16)\n",
    "plt.show()\n"
   ]
  }
 ],
 "metadata": {
  "language_info": {
   "name": "python"
  }
 },
 "nbformat": 4,
 "nbformat_minor": 5
}
